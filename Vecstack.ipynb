{
 "cells": [
  {
   "cell_type": "code",
   "execution_count": 1,
   "metadata": {},
   "outputs": [],
   "source": [
    "import numpy as np\n",
    "from sklearn.datasets import california_housing\n",
    "from sklearn.linear_model import Ridge\n",
    "from sklearn.model_selection import train_test_split,cross_val_score,KFold\n",
    "from sklearn.neural_network import MLPRegressor\n",
    "from sklearn.preprocessing import MinMaxScaler\n",
    "from sklearn.pipeline import make_pipeline\n",
    "from sklearn.decomposition import TruncatedSVD,PCA\n",
    "from sklearn.ensemble import RandomForestRegressor,GradientBoostingRegressor,ExtraTreesRegressor\n",
    "from sklearn.metrics import mean_squared_error,mean_absolute_error\n",
    "from matplotlib.pylab import plt\n",
    "from utils import *\n",
    "%matplotlib inline\n",
    "from vecstack import stacking"
   ]
  },
  {
   "cell_type": "code",
   "execution_count": 2,
   "metadata": {},
   "outputs": [],
   "source": [
    "data=california_housing.fetch_california_housing()\n",
    "x=data.data\n",
    "y=data.target\n",
    "x_train,x_test,y_train,y_test = train_test_split(x,y,test_size=0.2,random_state=2121)"
   ]
  },
  {
   "cell_type": "code",
   "execution_count": 6,
   "metadata": {},
   "outputs": [
    {
     "name": "stdout",
     "output_type": "stream",
     "text": [
      "task:         [regression]\n",
      "metric:       [mean_absolute_error]\n",
      "mode:         [oof_pred_bag]\n",
      "n_models:     [5]\n",
      "\n",
      "model  0:     [Ridge]\n",
      "    fold  0:  [0.53766021]\n",
      "    fold  1:  [0.54286198]\n",
      "    fold  2:  [0.52780334]\n",
      "    ----\n",
      "    MEAN:     [0.53610851] + [0.00624481]\n",
      "    FULL:     [0.53610851]\n",
      "\n",
      "model  1:     [RandomForestRegressor]\n",
      "    fold  0:  [0.34302532]\n",
      "    fold  1:  [0.34405827]\n",
      "    fold  2:  [0.34244269]\n",
      "    ----\n",
      "    MEAN:     [0.34317543] + [0.00066804]\n",
      "    FULL:     [0.34317543]\n",
      "\n",
      "model  2:     [ExtraTreesRegressor]\n",
      "    fold  0:  [0.33525993]\n",
      "    fold  1:  [0.33953447]\n",
      "    fold  2:  [0.33372439]\n",
      "    ----\n",
      "    MEAN:     [0.33617293] + [0.00245825]\n",
      "    FULL:     [0.33617293]\n",
      "\n",
      "model  3:     [Pipeline]\n"
     ]
    },
    {
     "name": "stderr",
     "output_type": "stream",
     "text": [
      "/Users/i350114/Documents/python_env/pyth3/lib/python3.6/site-packages/sklearn/neural_network/multilayer_perceptron.py:562: ConvergenceWarning: Stochastic Optimizer: Maximum iterations (200) reached and the optimization hasn't converged yet.\n",
      "  % self.max_iter, ConvergenceWarning)\n"
     ]
    },
    {
     "name": "stdout",
     "output_type": "stream",
     "text": [
      "    fold  0:  [0.40708324]\n",
      "    fold  1:  [0.38791229]\n"
     ]
    },
    {
     "name": "stderr",
     "output_type": "stream",
     "text": [
      "/Users/i350114/Documents/python_env/pyth3/lib/python3.6/site-packages/sklearn/neural_network/multilayer_perceptron.py:562: ConvergenceWarning: Stochastic Optimizer: Maximum iterations (200) reached and the optimization hasn't converged yet.\n",
      "  % self.max_iter, ConvergenceWarning)\n"
     ]
    },
    {
     "name": "stdout",
     "output_type": "stream",
     "text": [
      "    fold  2:  [0.37924839]\n",
      "    ----\n",
      "    MEAN:     [0.39141464] + [0.01163027]\n",
      "    FULL:     [0.39141464]\n",
      "\n",
      "model  4:     [GradientBoostingRegressor]\n",
      "    fold  0:  [0.31253398]\n",
      "    fold  1:  [0.31711912]\n",
      "    fold  2:  [0.31317860]\n",
      "    ----\n",
      "    MEAN:     [0.31427723] + [0.00202668]\n",
      "    FULL:     [0.31427723]\n",
      "\n",
      "MSE -  0.20449885150880207\n",
      "MAE -  0.3023451735720045\n"
     ]
    },
    {
     "data": {
      "image/png": "[encoded data removed]",
      "text/plain": [
       "<Figure size 432x288 with 1 Axes>"
      ]
     },
     "metadata": {},
     "output_type": "display_data"
    }
   ],
   "source": [
    "models = [Ridge(alpha=0.01),\n",
    "          RandomForestRegressor(n_estimators=100,random_state=2121,n_jobs=-1),\n",
    "          ExtraTreesRegressor(n_estimators=400,random_state=2121,n_jobs=-1),\n",
    "          make_pipeline(MinMaxScaler(),MLPRegressor(hidden_layer_sizes=(20,20,20))),\n",
    "          GradientBoostingRegressor(n_estimators=580,max_depth=4)]\n",
    "        \n",
    "S_train, S_test = stacking(models, x_train, y_train, x_test, \n",
    "                           regression = True, metric = mean_absolute_error, n_folds = 3,\n",
    "                           shuffle = True, random_state = 0, verbose = 2)\n",
    "\n",
    "clf = Ridge(alpha=0.01)\n",
    "clf = clf.fit(S_train, y_train)\n",
    "\n",
    "preds = clf.predict(S_test)\n",
    "plt_sct(y_test,preds)"
   ]
  },
  {
   "cell_type": "code",
   "execution_count": null,
   "metadata": {},
   "outputs": [],
   "source": []
  }
 ],
 "metadata": {
  "kernelspec": {
   "display_name": "Python 3",
   "language": "python",
   "name": "python3"
  },
  "language_info": {
   "codemirror_mode": {
    "name": "ipython",
    "version": 3
   },
   "file_extension": ".py",
   "mimetype": "text/x-python",
   "name": "python",
   "nbconvert_exporter": "python",
   "pygments_lexer": "ipython3",
   "version": "3.6.4"
  }
 },
 "nbformat": 4,
 "nbformat_minor": 2
}
