{
 "cells": [
  {
   "cell_type": "code",
   "execution_count": 12,
   "metadata": {},
   "outputs": [],
   "source": [
    "from sklearn.datasets import california_housing\n",
    "from sklearn.linear_model import Ridge\n",
    "from sklearn.model_selection import train_test_split,cross_val_score,KFold\n",
    "from sklearn.neural_network import MLPRegressor\n",
    "from sklearn.preprocessing import MinMaxScaler\n",
    "from sklearn.pipeline import make_pipeline\n",
    "from sklearn.ensemble import RandomForestRegressor,GradientBoostingRegressor,ExtraTreesRegressor\n",
    "from sklearn.metrics import mean_squared_error,mean_absolute_error,make_scorer\n",
    "from utils import *\n",
    "\n",
    "from heamy.dataset import Dataset\n",
    "from heamy.estimator import Regressor\n",
    "from heamy.pipeline import ModelsPipeline\n",
    "\n",
    "%matplotlib inline\n",
    "import warnings\n",
    "warnings.filterwarnings(\"ignore\")\n",
    "\n",
    "import ssl \n",
    "ssl._create_default_https_context = ssl._create_unverified_context"
   ]
  },
  {
   "cell_type": "code",
   "execution_count": 13,
   "metadata": {},
   "outputs": [],
   "source": [
    "data=california_housing.fetch_california_housing()\n",
    "x=data.data\n",
    "y=data.target\n",
    "x_train,x_test,y_train,y_test = train_test_split(x,y,test_size=0.2,random_state=2121)"
   ]
  },
  {
   "cell_type": "code",
   "execution_count": 14,
   "metadata": {},
   "outputs": [],
   "source": [
    "ds = Dataset(x_train,y_train,x_test,y_test, use_cache=False)"
   ]
  },
  {
   "cell_type": "code",
   "execution_count": 15,
   "metadata": {},
   "outputs": [],
   "source": [
    "clf1_0 = Ridge\n",
    "clf1_0_params=dict(random_state=2112,alpha=0.01)\n",
    "clf1_1 = RandomForestRegressor\n",
    "clf1_1_params=dict(n_estimators=100,random_state=2121,n_jobs=-1)\n",
    "clf1_2 = ExtraTreesRegressor\n",
    "clf1_2_params=dict(n_estimators=400,random_state=2121,n_jobs=-1)\n",
    "clf1_3 = GradientBoostingRegressor\n",
    "clf1_3_params=dict(n_estimators=580,max_depth=4)\n",
    "\n",
    "pipeline = ModelsPipeline(\n",
    "    Regressor(estimator=clf1_0, dataset=ds, use_cache=False,parameters=clf1_0_params),\n",
    "    Regressor(estimator=clf1_1, dataset=ds, use_cache=False,parameters=clf1_1_params),\n",
    "    Regressor(estimator=clf1_2, dataset=ds, use_cache=False,parameters=clf1_2_params),\n",
    "    Regressor(estimator=clf1_3, dataset=ds, use_cache=False,parameters=clf1_3_params),\n",
    ")\n",
    "\n",
    "stack_ds = pipeline.stack(k=4, seed=2121, add_diff=False, full_test=True)"
   ]
  },
  {
   "cell_type": "code",
   "execution_count": 16,
   "metadata": {},
   "outputs": [],
   "source": [
    "clf2_0=Ridge\n",
    "clf1_0_params=dict(random_state=2112,alpha=0.01)\n",
    "\n",
    "clf = Regressor(dataset=stack_ds, estimator=clf2_0, use_cache=False)"
   ]
  },
  {
   "cell_type": "code",
   "execution_count": 17,
   "metadata": {},
   "outputs": [
    {
     "name": "stdout",
     "output_type": "stream",
     "text": [
      "Metric: mean_absolute_error\n",
      "Folds accuracy: [0.3113388159913811, 0.30339510458647995, 0.301562838573643]\n",
      "Mean accuracy: 0.30543225305050137\n",
      "Standard Deviation: 0.004243026751143551\n",
      "Variance: 1.800327601091979e-05\n"
     ]
    },
    {
     "data": {
      "text/plain": [
       "([array([1.752  , 3.588  , 5.00001, ..., 5.00001, 2.159  , 1.375  ]),\n",
       "  array([1.393, 1.143, 3.398, ..., 2.978, 1.17 , 1.958]),\n",
       "  array([1.552, 1.577, 1.031, ..., 2.237, 1.893, 1.875])],\n",
       " [array([2.15742434, 4.08649672, 5.01881829, ..., 4.85834726, 2.16422708,\n",
       "         1.17178414]),\n",
       "  array([1.30825958, 1.09750699, 3.69278697, ..., 3.19627816, 1.42253308,\n",
       "         0.95262652]),\n",
       "  array([1.53702716, 1.47806793, 1.28919893, ..., 2.10063144, 1.87904659,\n",
       "         1.33836606])])"
      ]
     },
     "execution_count": 17,
     "metadata": {},
     "output_type": "execute_result"
    }
   ],
   "source": [
    "clf.validate(k=3, scorer=mean_absolute_error)"
   ]
  },
  {
   "cell_type": "code",
   "execution_count": 18,
   "metadata": {},
   "outputs": [
    {
     "name": "stdout",
     "output_type": "stream",
     "text": [
      "MSE -  0.20517652345656298\n",
      "MAE -  0.3020910931569586\n"
     ]
    },
    {
     "data": {
      "image/png": "[encoded data removed]",
      "text/plain": [
       "<Figure size 432x288 with 1 Axes>"
      ]
     },
     "metadata": {},
     "output_type": "display_data"
    }
   ],
   "source": [
    "plt_sct(y_test,clf.predict())"
   ]
  },
  {
   "cell_type": "code",
   "execution_count": null,
   "metadata": {},
   "outputs": [],
   "source": []
  }
 ],
 "metadata": {
  "kernelspec": {
   "display_name": "Python 3",
   "language": "python",
   "name": "python3"
  },
  "language_info": {
   "codemirror_mode": {
    "name": "ipython",
    "version": 3
   },
   "file_extension": ".py",
   "mimetype": "text/x-python",
   "name": "python",
   "nbconvert_exporter": "python",
   "pygments_lexer": "ipython3",
   "version": "3.6.4"
  }
 },
 "nbformat": 4,
 "nbformat_minor": 2
}
