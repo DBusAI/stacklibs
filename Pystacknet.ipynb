{
 "cells": [
  {
   "cell_type": "code",
   "execution_count": 1,
   "metadata": {},
   "outputs": [],
   "source": [
    "import numpy as np\n",
    "from sklearn.datasets import california_housing\n",
    "from sklearn.linear_model import Ridge\n",
    "from sklearn.model_selection import train_test_split,cross_val_score,KFold\n",
    "from sklearn.neural_network import MLPRegressor\n",
    "from sklearn.preprocessing import MinMaxScaler\n",
    "from sklearn.pipeline import make_pipeline\n",
    "from sklearn.decomposition import TruncatedSVD,PCA\n",
    "from sklearn.ensemble import RandomForestRegressor,GradientBoostingRegressor,ExtraTreesRegressor\n",
    "from sklearn.metrics import mean_squared_error,mean_absolute_error\n",
    "from matplotlib.pylab import plt\n",
    "from utils import *\n",
    "%matplotlib inline\n",
    "from pystacknet.pystacknet import StackNetRegressor"
   ]
  },
  {
   "cell_type": "code",
   "execution_count": 3,
   "metadata": {},
   "outputs": [],
   "source": [
    "data=california_housing.fetch_california_housing()\n",
    "x=data.data\n",
    "y=data.target\n",
    "x_train,x_test,y_train,y_test = train_test_split(x,y,test_size=0.2,random_state=2121)"
   ]
  },
  {
   "cell_type": "code",
   "execution_count": 4,
   "metadata": {},
   "outputs": [
    {
     "name": "stdout",
     "output_type": "stream",
     "text": [
      "====================== Start of Level 0 ======================\n",
      "Input Dimensionality 8 at Level 0 \n",
      "5 models included in Level 0 \n"
     ]
    },
    {
     "name": "stderr",
     "output_type": "stream",
     "text": [
      "/Users/i350114/Documents/python_env/pyth3/lib/python3.6/site-packages/sklearn/neural_network/multilayer_perceptron.py:562: ConvergenceWarning: Stochastic Optimizer: Maximum iterations (200) reached and the optimization hasn't converged yet.\n",
      "  % self.max_iter, ConvergenceWarning)\n"
     ]
    },
    {
     "name": "stdout",
     "output_type": "stream",
     "text": [
      "Fold 1/3 , model 0 , mae===0.530812 \n",
      "Fold 1/3 , model 1 , mae===0.350465 \n",
      "Fold 1/3 , model 2 , mae===0.339636 \n",
      "Fold 1/3 , model 3 , mae===0.382202 \n",
      "Fold 1/3 , model 4 , mae===0.319746 \n",
      "=========== end of fold 1 in level 0 ===========\n"
     ]
    },
    {
     "name": "stderr",
     "output_type": "stream",
     "text": [
      "/Users/i350114/Documents/python_env/pyth3/lib/python3.6/site-packages/sklearn/neural_network/multilayer_perceptron.py:562: ConvergenceWarning: Stochastic Optimizer: Maximum iterations (200) reached and the optimization hasn't converged yet.\n",
      "  % self.max_iter, ConvergenceWarning)\n"
     ]
    },
    {
     "name": "stdout",
     "output_type": "stream",
     "text": [
      "Fold 2/3 , model 0 , mae===0.532428 \n",
      "Fold 2/3 , model 1 , mae===0.333285 \n",
      "Fold 2/3 , model 2 , mae===0.330828 \n",
      "Fold 2/3 , model 3 , mae===0.396000 \n",
      "Fold 2/3 , model 4 , mae===0.310557 \n",
      "=========== end of fold 2 in level 0 ===========\n"
     ]
    },
    {
     "name": "stderr",
     "output_type": "stream",
     "text": [
      "/Users/i350114/Documents/python_env/pyth3/lib/python3.6/site-packages/sklearn/neural_network/multilayer_perceptron.py:562: ConvergenceWarning: Stochastic Optimizer: Maximum iterations (200) reached and the optimization hasn't converged yet.\n",
      "  % self.max_iter, ConvergenceWarning)\n"
     ]
    },
    {
     "name": "stdout",
     "output_type": "stream",
     "text": [
      "Fold 3/3 , model 0 , mae===0.538741 \n",
      "Fold 3/3 , model 1 , mae===0.347629 \n",
      "Fold 3/3 , model 2 , mae===0.340895 \n",
      "Fold 3/3 , model 3 , mae===0.398804 \n",
      "Fold 3/3 , model 4 , mae===0.316396 \n",
      "=========== end of fold 3 in level 0 ===========\n"
     ]
    },
    {
     "name": "stderr",
     "output_type": "stream",
     "text": [
      "/Users/i350114/Documents/python_env/pyth3/lib/python3.6/site-packages/sklearn/neural_network/multilayer_perceptron.py:562: ConvergenceWarning: Stochastic Optimizer: Maximum iterations (200) reached and the optimization hasn't converged yet.\n",
      "  % self.max_iter, ConvergenceWarning)\n"
     ]
    },
    {
     "name": "stdout",
     "output_type": "stream",
     "text": [
      "Output dimensionality of level 0 is 5 \n",
      "====================== End of Level 0 ======================\n",
      " level 0 lasted 110.361163 seconds \n",
      "====================== Start of Level 1 ======================\n",
      "Input Dimensionality 13 at Level 1 \n",
      "1 models included in Level 1 \n",
      "Fold 1/3 , model 0 , mae===0.313095 \n",
      "=========== end of fold 1 in level 1 ===========\n",
      "Fold 2/3 , model 0 , mae===0.304292 \n",
      "=========== end of fold 2 in level 1 ===========\n",
      "Fold 3/3 , model 0 , mae===0.309606 \n",
      "=========== end of fold 3 in level 1 ===========\n",
      "Output dimensionality of level 1 is 1 \n",
      "====================== End of Level 1 ======================\n",
      " level 1 lasted 0.016164 seconds \n",
      "====================== End of fit ======================\n",
      " fit() lasted 110.377936 seconds \n",
      "====================== Start of Level 0 ======================\n",
      "1 estimators included in Level 0 \n",
      "====================== Start of Level 1 ======================\n",
      "1 estimators included in Level 1 \n",
      "MSE -  0.20275591957223227\n",
      "MAE -  0.3022467334157819\n"
     ]
    },
    {
     "data": {
      "image/png": "[encoded data removed]",
      "text/plain": [
       "<Figure size 432x288 with 1 Axes>"
      ]
     },
     "metadata": {},
     "output_type": "display_data"
    }
   ],
   "source": [
    "clf1_0 = Ridge(alpha=0.01)\n",
    "clf1_1 = RandomForestRegressor(n_estimators=100,random_state=2121,n_jobs=-1)\n",
    "clf1_2 = ExtraTreesRegressor(n_estimators=400,random_state=2121,n_jobs=-1)\n",
    "clf1_3 = make_pipeline(MinMaxScaler(),MLPRegressor(hidden_layer_sizes=(20,20,20)))\n",
    "clf1_4 = GradientBoostingRegressor(n_estimators=580,max_depth=4)\n",
    "\n",
    "clf2_0 = Ridge(random_state=2112,alpha=0.01)\n",
    "\n",
    "models = [[clf1_0,clf1_1,clf1_2,clf1_3,clf1_4],\n",
    "         [clf2_0]]\n",
    "\n",
    "clf = StackNetRegressor(models,folds=3,restacking=True,metric='mae',verbose=2)\n",
    "clf.fit(x_train,y_train)\n",
    "preds = clf.predict(x_test)\n",
    "plt_sct(y_test,preds)"
   ]
  },
  {
   "cell_type": "code",
   "execution_count": null,
   "metadata": {},
   "outputs": [],
   "source": []
  }
 ],
 "metadata": {
  "kernelspec": {
   "display_name": "Python 3",
   "language": "python",
   "name": "python3"
  },
  "language_info": {
   "codemirror_mode": {
    "name": "ipython",
    "version": 3
   },
   "file_extension": ".py",
   "mimetype": "text/x-python",
   "name": "python",
   "nbconvert_exporter": "python",
   "pygments_lexer": "ipython3",
   "version": "3.6.4"
  }
 },
 "nbformat": 4,
 "nbformat_minor": 2
}
